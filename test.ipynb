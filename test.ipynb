{
 "cells": [
  {
   "attachments": {},
   "cell_type": "markdown",
   "metadata": {},
   "source": [
    "# 代码布局\n",
    "\n",
    "### 缩进\n"
   ]
  },
  {
   "attachments": {},
   "cell_type": "markdown",
   "metadata": {},
   "source": [
    "(1) 每个缩进使用4个空格，不允许混用制表符和空格进行缩进。空格是首选的缩进方式。"
   ]
  },
  {
   "cell_type": "code",
   "execution_count": 9,
   "metadata": {},
   "outputs": [],
   "source": [
    "def long_function_name(*args):\n",
    "    print(*args)"
   ]
  },
  {
   "attachments": {},
   "cell_type": "markdown",
   "metadata": {},
   "source": [
    "(2) 连续行可以选择垂直对齐换行的元素："
   ]
  },
  {
   "cell_type": "code",
   "execution_count": null,
   "metadata": {},
   "outputs": [],
   "source": [
    "# Aligned with opening delimiter.\n",
    "foo = long_function_name(var_one, var_two,\n",
    "                         var_three, var_four)"
   ]
  },
  {
   "attachments": {},
   "cell_type": "markdown",
   "metadata": {},
   "source": [
    "(3) 也可以使用悬挂缩进。当使用悬挂缩进时，第一行不应该有自变量："
   ]
  },
  {
   "cell_type": "code",
   "execution_count": null,
   "metadata": {},
   "outputs": [],
   "source": [
    "# Hanging indents should add a level.\n",
    "foo = long_function_name(\n",
    "    var_one, var_two,\n",
    "    var_three, var_four)"
   ]
  },
  {
   "attachments": {},
   "cell_type": "markdown",
   "metadata": {},
   "source": [
    "当需要区别其他代码时，需要增加一层缩进："
   ]
  },
  {
   "cell_type": "code",
   "execution_count": 11,
   "metadata": {},
   "outputs": [],
   "source": [
    "# Add 4 spaces (an extra level of indentation) to distinguish arguments from the rest.\n",
    "def long_function_name(\n",
    "        var_one, var_two, var_three,\n",
    "        var_four):\n",
    "    print(var_one)"
   ]
  },
  {
   "attachments": {},
   "cell_type": "markdown",
   "metadata": {},
   "source": [
    "(4) 以下是一些错误写法："
   ]
  },
  {
   "cell_type": "code",
   "execution_count": null,
   "metadata": {},
   "outputs": [],
   "source": [
    "# Wrong:\n",
    "\n",
    "# Arguments on first line forbidden when not using vertical alignment.\n",
    "foo = long_function_name(var_one, var_two,\n",
    "    var_three, var_four)\n",
    "\n",
    "# Further indentation required as indentation is not distinguishable.\n",
    "def long_function_name(\n",
    "    var_one, var_two, var_three,\n",
    "    var_four):\n",
    "    print(var_one)"
   ]
  },
  {
   "attachments": {},
   "cell_type": "markdown",
   "metadata": {},
   "source": [
    "(5) 当if语句的条件部分需要跨行输入时，可以使用以下格式："
   ]
  },
  {
   "cell_type": "code",
   "execution_count": null,
   "metadata": {},
   "outputs": [],
   "source": [
    "# No extra indentation.\n",
    "if (this_is_one_thing and\n",
    "    that_is_another_thing):\n",
    "    do_something()\n",
    "\n",
    "# Add some extra indentation on the conditional continuation line.\n",
    "if (this_is_one_thing\n",
    "        and that_is_another_thing):\n",
    "    do_something() "
   ]
  },
  {
   "attachments": {},
   "cell_type": "markdown",
   "metadata": {},
   "source": [
    "(6) 在多行结构中，]，），}，可以放在列表最后一行的第一个非空白字符下方："
   ]
  },
  {
   "cell_type": "code",
   "execution_count": null,
   "metadata": {},
   "outputs": [],
   "source": [
    "my_list = [\n",
    "    1, 2, 3,\n",
    "    4, 5, 6,\n",
    "    ]\n",
    "result = some_function_that_takes_arguments(\n",
    "    'a', 'b', 'c',\n",
    "    'd', 'e', 'f',\n",
    "    )"
   ]
  },
  {
   "attachments": {},
   "cell_type": "markdown",
   "metadata": {},
   "source": [
    "或者可以排在多行结构的行的第一个字符下："
   ]
  },
  {
   "cell_type": "code",
   "execution_count": null,
   "metadata": {},
   "outputs": [],
   "source": [
    "my_list = [\n",
    "    1, 2, 3,\n",
    "    4, 5, 6,\n",
    "]\n",
    "result = some_function_that_takes_arguments(\n",
    "    'a', 'b', 'c',\n",
    "    'd', 'e', 'f',\n",
    ")"
   ]
  },
  {
   "attachments": {},
   "cell_type": "markdown",
   "metadata": {},
   "source": [
    "### 关于行"
   ]
  },
  {
   "attachments": {},
   "cell_type": "markdown",
   "metadata": {},
   "source": [
    "(1) 最大行长：Python要求将行限制为79个字符，对于具有较少结构限制的长文本块，如文档字符串或注释，行长度应限制为72个字符。"
   ]
  },
  {
   "attachments": {},
   "cell_type": "markdown",
   "metadata": {},
   "source": [
    "(2) 换行的首选方式是在()、[]、{}中使用Python隐含的行连接。此时可以使用续行符 \\ 来连接。"
   ]
  },
  {
   "cell_type": "code",
   "execution_count": null,
   "metadata": {},
   "outputs": [],
   "source": [
    "with open('/path/to/some/file/you/want/to/read') as file_1, \\\n",
    "     open('/path/to/some/file/being/written', 'w') as file_2:\n",
    "    file_2.write(file_1.read())"
   ]
  },
  {
   "attachments": {},
   "cell_type": "markdown",
   "metadata": {},
   "source": [
    "(3) 换行应在二元运算符之前，以提高代码的可读性："
   ]
  },
  {
   "cell_type": "code",
   "execution_count": null,
   "metadata": {},
   "outputs": [],
   "source": [
    "# easy to match operators with operands\n",
    "income = (gross_wages\n",
    "          + taxable_interest\n",
    "          + (dividends - qualified_dividends)\n",
    "          - ira_deduction\n",
    "          - student_loan_interest)"
   ]
  },
  {
   "attachments": {},
   "cell_type": "markdown",
   "metadata": {},
   "source": [
    "(4) 空行：\n",
    "\n",
    "在类和top-level函数之间应使用两行空行；\n",
    "\n",
    "类中的方法定义之间使用一行空行；\n",
    "\n",
    "合理地使用空行来分隔逻辑块；\n",
    "\n",
    "非必要无需换行。"
   ]
  },
  {
   "cell_type": "code",
   "execution_count": 12,
   "metadata": {},
   "outputs": [],
   "source": [
    "class BlackDemo:\n",
    "\n",
    "\n",
    "    def black_method1():\n",
    "        print('black method demo1')\n",
    "    \n",
    "    def black_method2():\n",
    "        print('black method demo2')"
   ]
  },
  {
   "attachments": {},
   "cell_type": "markdown",
   "metadata": {},
   "source": [
    "(5) 源文件编码：\n",
    "\n",
    "在Python3中的代码应始终使用UTF-8（或Python2中的ASCII）；\n",
    "\n",
    "使用ASCII或UTF-8的文件不应具有编码声明；\n",
    "\n",
    "对于Python3及更高版本，Python标准库中的所有标识符必须使用ASCII标识符，且尽可能使用英语单词，字符串文字和注释也必须是ASCII格式。"
   ]
  },
  {
   "attachments": {},
   "cell_type": "markdown",
   "metadata": {},
   "source": [
    "### 导入\n",
    "\n",
    "\n",
    "\n"
   ]
  },
  {
   "attachments": {},
   "cell_type": "markdown",
   "metadata": {},
   "source": [
    "(1) import通常在单独的行："
   ]
  },
  {
   "cell_type": "code",
   "execution_count": null,
   "metadata": {},
   "outputs": [],
   "source": [
    "# Correct:\n",
    "import os\n",
    "import sys\n",
    "\n",
    "# Wrong:\n",
    "import sys, os\n"
   ]
  },
  {
   "attachments": {},
   "cell_type": "markdown",
   "metadata": {},
   "source": [
    "不过这种写法也是可以的："
   ]
  },
  {
   "cell_type": "code",
   "execution_count": null,
   "metadata": {},
   "outputs": [],
   "source": [
    "# Correct:\n",
    "from subprocess import Popen, PIPE"
   ]
  },
  {
   "attachments": {},
   "cell_type": "markdown",
   "metadata": {},
   "source": [
    "(2) 模块内容的顺序：\n",
    "模块注释 → 文档字符串 → import → 模块全局变量和常量 → 其他定义\n",
    "\n",
    "\n",
    "(3) 其中import按以下顺序分组，每组之间需添加一个空行：\n",
    "标准库导入 → 第三方 → 本地应用程序/库特定导入"
   ]
  },
  {
   "cell_type": "code",
   "execution_count": null,
   "metadata": {},
   "outputs": [],
   "source": [
    "\"\"\"This is the example module.\n",
    "\n",
    "This module does stuff.\n",
    "\"\"\"\n",
    "\n",
    "from __future__ import barry_as_FLUFL\n",
    "\n",
    "__all__ = ['a', 'b', 'c']\n",
    "__version__ = '0.1'\n",
    "__author__ = 'Cardinal Biggles'\n",
    "\n",
    "import os\n",
    "import sys"
   ]
  },
  {
   "attachments": {},
   "cell_type": "markdown",
   "metadata": {},
   "source": [
    "(4) 绝对导入和相对导入：建议使用绝对导入。\n",
    "\n",
    "绝对导入可以使用import<> 或 from <> import <> 两种语法。\n",
    "\n",
    "绝对导入非常明确和直接，只需查看语句，就可以很容易地判断导入的资源的确切位置。"
   ]
  },
  {
   "cell_type": "code",
   "execution_count": null,
   "metadata": {},
   "outputs": [],
   "source": [
    "import mypkg.sibling\n",
    "from mypkg import sibling\n",
    "from mypkg.sibling import example\n"
   ]
  },
  {
   "attachments": {},
   "cell_type": "markdown",
   "metadata": {},
   "source": [
    "相对导入包含显式和隐式，其中隐式相对导入在Python3中弃用。\n",
    "\n",
    "相对导入指定要相对于当前位置（即导入语句所在的位置）导入的资源。相对导入的语法取决于当前位置以及要导入的模块、包或对象的位置。\n",
    "\n",
    "相对导入只能使用from <> import <>，并且使用 . 作为前导点。'.'表示引用的模块或包与当前位置位于同一目录，'..'表示位于当前位置的父目录中，'...'表示它在祖目录中。\n",
    "\n",
    "\n",
    "在处理复杂的包布局时，绝对导入会不必要地冗长，因此可以使用显式相对导入来代替："
   ]
  },
  {
   "cell_type": "code",
   "execution_count": null,
   "metadata": {},
   "outputs": [],
   "source": [
    "from . import sibling\n",
    "from .sibling import example"
   ]
  },
  {
   "attachments": {},
   "cell_type": "markdown",
   "metadata": {},
   "source": [
    "(5) 应避免使用通配符导入（from <module> import *），因为通配符使名称空间中不清楚存在哪些名称，这会混淆读取器和许多自动化工具。"
   ]
  },
  {
   "attachments": {},
   "cell_type": "markdown",
   "metadata": {},
   "source": [
    "### 模块级Dunder名称"
   ]
  },
  {
   "attachments": {},
   "cell_type": "markdown",
   "metadata": {},
   "source": [
    "模块级\"dunders\"（即名称前后具有两个下划线），如__all__，__author__等，应被放置在模块文档字符之后，但在除from _future_ imports之外的导入语句之前。Python要求将来的导入必须出现在模块中的除文档字符串以外的任何其他代码之前："
   ]
  },
  {
   "cell_type": "code",
   "execution_count": null,
   "metadata": {},
   "outputs": [],
   "source": [
    "\"\"\"This is the example module.\n",
    "\n",
    "This module does stuff.\n",
    "\"\"\"\n",
    "\n",
    "from __future__ import barry_as_FLUFL\n",
    "\n",
    "__all__ = ['a', 'b', 'c']\n",
    "__version__ = '0.1'\n",
    "__author__ = 'Cardinal Biggles'\n",
    "\n",
    "import os\n",
    "import sys"
   ]
  },
  {
   "attachments": {},
   "cell_type": "markdown",
   "metadata": {},
   "source": [
    "# 字符串引号"
   ]
  },
  {
   "attachments": {},
   "cell_type": "markdown",
   "metadata": {},
   "source": [
    "在Python中，单引号字符串和双引号字符串是相同的。当字符串包含单引号或者双引号字符时，需要使用另一个字符串以避免字符串中出现反斜杠。\n",
    "\n",
    "此种做法提高了可读性。"
   ]
  },
  {
   "attachments": {},
   "cell_type": "markdown",
   "metadata": {},
   "source": [
    "# 空格"
   ]
  },
  {
   "attachments": {},
   "cell_type": "markdown",
   "metadata": {},
   "source": [
    "(1) 避免使用拖尾空格（通常不可见），例如：反斜杠后跟一个空格和一个换行符并不算作换行。\n",
    "\n",
    "(2) 二元操作符前后都需要有一个空格。\n",
    "\n",
    "(3) 如果出现优先级不同的运算符，需要在优先级最低的运算符两边添加一个空格。"
   ]
  },
  {
   "cell_type": "code",
   "execution_count": null,
   "metadata": {},
   "outputs": [],
   "source": [
    "i = i + 1\n",
    "submitted += 1\n",
    "x = x*2 - 1\n",
    "hypot2 = x*x + y*y\n",
    "c = (a+b) * (a-b)"
   ]
  },
  {
   "attachments": {},
   "cell_type": "markdown",
   "metadata": {},
   "source": [
    "(4) 在 -> 运算符前后都需要有空格："
   ]
  },
  {
   "cell_type": "code",
   "execution_count": null,
   "metadata": {},
   "outputs": [],
   "source": [
    "# Correct:\n",
    "def munge(input: AnyStr): ...\n",
    "def munge() -> PosInt: ..."
   ]
  },
  {
   "attachments": {},
   "cell_type": "markdown",
   "metadata": {},
   "source": [
    "(5) 当 = 用于指示关键字参数或者用于指示未注释函数参数的默认值时，请勿在其前后使用空格："
   ]
  },
  {
   "cell_type": "code",
   "execution_count": null,
   "metadata": {},
   "outputs": [],
   "source": [
    "# Correct:\n",
    "def complex(real, imag=0.0):\n",
    "    return magic(r=real, i=imag)\n",
    "\n",
    "# Wrong:\n",
    "def complex(real, imag = 0.0):\n",
    "    return magic(r = real, i = imag)"
   ]
  },
  {
   "attachments": {},
   "cell_type": "markdown",
   "metadata": {},
   "source": [
    "但是当函数参数注释和默认值组合使用时，务必在 = 前后使用空格："
   ]
  },
  {
   "cell_type": "code",
   "execution_count": null,
   "metadata": {},
   "outputs": [],
   "source": [
    "# Correct:\n",
    "def munge(sep: AnyStr = None): ...\n",
    "def munge(input: AnyStr, sep: AnyStr = None, limit=1000): ...\n",
    "\n",
    "# Wrong:\n",
    "def munge(input: AnyStr=None): ...\n",
    "def munge(input: AnyStr, limit = 1000): ..."
   ]
  },
  {
   "attachments": {},
   "cell_type": "markdown",
   "metadata": {},
   "source": [
    "(6) 避免使用复合语句（一行代码包含多条语句）"
   ]
  },
  {
   "cell_type": "code",
   "execution_count": null,
   "metadata": {},
   "outputs": [],
   "source": [
    "# Correct:\n",
    "if foo == 'blah':\n",
    "    do_blah_thing()\n",
    "do_one()\n",
    "do_two()\n",
    "do_three()\n",
    "\n",
    "# Wrong:\n",
    "if foo == 'blah': do_blah_thing()\n",
    "do_one(); do_two(); do_three()"
   ]
  },
  {
   "attachments": {},
   "cell_type": "markdown",
   "metadata": {},
   "source": [
    "在if/for/while语句中，即使执行语句很短，也最好另起一行"
   ]
  },
  {
   "cell_type": "code",
   "execution_count": null,
   "metadata": {},
   "outputs": [],
   "source": [
    "# Wrong:\n",
    "if foo == 'blah': do_blah_thing()\n",
    "for x in lst: total += x\n",
    "while t < 10: t = delay()"
   ]
  },
  {
   "attachments": {},
   "cell_type": "markdown",
   "metadata": {},
   "source": [
    "(7) 在以下情况中，避免使用多余的空格："
   ]
  },
  {
   "attachments": {},
   "cell_type": "markdown",
   "metadata": {},
   "source": [
    "1. 紧跟()、[]、{}的："
   ]
  },
  {
   "cell_type": "code",
   "execution_count": null,
   "metadata": {},
   "outputs": [],
   "source": [
    "# Correct:\n",
    "spam(ham[1], {eggs: 2})\n",
    "\n",
    "# Wrong:\n",
    "spam( ham[ 1 ], { eggs: 2 } )"
   ]
  },
  {
   "attachments": {},
   "cell_type": "markdown",
   "metadata": {},
   "source": [
    "2. 在逗号和右括号之间："
   ]
  },
  {
   "cell_type": "code",
   "execution_count": null,
   "metadata": {},
   "outputs": [],
   "source": [
    "# Correct:\n",
    "foo = (0,)\n",
    "\n",
    "# Wrong:\n",
    "bar = (0, )"
   ]
  },
  {
   "attachments": {},
   "cell_type": "markdown",
   "metadata": {},
   "source": [
    "3. 在逗号、冒号、分号之前："
   ]
  },
  {
   "cell_type": "code",
   "execution_count": null,
   "metadata": {},
   "outputs": [],
   "source": [
    "# Correct:\n",
    "if x == 4: print(x, y); x, y = y, x\n",
    "\n",
    "# Wrong:\n",
    "if x == 4 : print(x , y) ; x , y = y , x"
   ]
  },
  {
   "attachments": {},
   "cell_type": "markdown",
   "metadata": {},
   "source": [
    "4. 在切片中，冒号的作用类似于二元运算符，在其两侧应具有相同数量的空格（将其视为优先级最低的运算符）。在省略切片参数时，将省略空格："
   ]
  },
  {
   "cell_type": "code",
   "execution_count": null,
   "metadata": {},
   "outputs": [],
   "source": [
    "# Correct:\n",
    "ham[1:9], ham[1:9:3], ham[:9:3], ham[1::3], ham[1:9:]\n",
    "ham[lower:upper], ham[lower:upper:], ham[lower::step]\n",
    "ham[lower+offset : upper+offset]\n",
    "ham[: upper_fn(x) : step_fn(x)], ham[:: step_fn(x)]\n",
    "ham[lower + offset : upper + offset]"
   ]
  },
  {
   "cell_type": "code",
   "execution_count": null,
   "metadata": {},
   "outputs": [],
   "source": [
    "# Wrong:\n",
    "ham[lower + offset:upper + offset]\n",
    "ham[1: 9], ham[1 :9], ham[1:9 :3]\n",
    "ham[lower : : step]\n",
    "ham[ : upper]"
   ]
  },
  {
   "attachments": {},
   "cell_type": "markdown",
   "metadata": {},
   "source": [
    "5. 在函数调用的()、索引及切片的[]前不要加空格："
   ]
  },
  {
   "cell_type": "code",
   "execution_count": null,
   "metadata": {},
   "outputs": [],
   "source": [
    "# Correct:\n",
    "spam(1)\n",
    "\n",
    "# Correct:\n",
    "dct['key'] = lst[index]"
   ]
  },
  {
   "attachments": {},
   "cell_type": "markdown",
   "metadata": {},
   "source": [
    "6. 不要在赋值运算符两侧添加多余的空格来对齐："
   ]
  },
  {
   "cell_type": "code",
   "execution_count": null,
   "metadata": {},
   "outputs": [],
   "source": [
    "# Correct:\n",
    "x = 1\n",
    "y = 2\n",
    "long_variable = 3\n",
    "\n",
    "# Wrong:\n",
    "x             = 1\n",
    "y             = 2\n",
    "long_variable = 3"
   ]
  },
  {
   "attachments": {},
   "cell_type": "markdown",
   "metadata": {},
   "source": [
    "# 注释"
   ]
  },
  {
   "attachments": {},
   "cell_type": "markdown",
   "metadata": {},
   "source": [
    "(1) 当代码发生变化时，始终优先保持注释的最新状态。\n",
    "\n",
    "(2) 注释应该是完整的句子，第一个单词应大写，除非它是一个以小写字母开头的标识符。\n",
    "\n",
    "(3) 行内注释：与语句在同一行上的注释。行内注释应与语句至少分隔两个空格，且应以#和单个空格开头："
   ]
  },
  {
   "cell_type": "code",
   "execution_count": null,
   "metadata": {},
   "outputs": [],
   "source": [
    "x = x + 1  # Increment x"
   ]
  },
  {
   "attachments": {},
   "cell_type": "markdown",
   "metadata": {},
   "source": [
    "(4) 对于多行注释，有两种方法：\n",
    "\n",
    "1. 块注释\n",
    "\n",
    "    块注释通常由一个或多个由完整句子组成的段落组成，每个句子都以句号结尾。\n",
    "\n",
    "    块注释的每一行都以#和一个空格开头"
   ]
  },
  {
   "cell_type": "code",
   "execution_count": null,
   "metadata": {},
   "outputs": [],
   "source": [
    "# 多行注释\n",
    "# 多行注释\n",
    "# 多行注释\n",
    "print('Hello')"
   ]
  },
  {
   "attachments": {},
   "cell_type": "markdown",
   "metadata": {},
   "source": [
    "2. 文档字符串\n",
    "\n",
    "    文档字符串由一对三个单引号'''或者一对三个双引号\"\"\"组成，一般用于注释公共模块、函数、类和方法，对于非公共方法不是必需的，该注释应出现在def行之后。\n",
    "\n",
    "    文档字符串使用惯例：首行简述函数功能，第二行空行，第三行为函数的具体描述。\n",
    "\n",
    "    请注意，多行文档字符串结尾的\"\"\"应单独位于一行上：\n",
    "\n"
   ]
  },
  {
   "cell_type": "code",
   "execution_count": null,
   "metadata": {},
   "outputs": [],
   "source": [
    "\"\"\"Return a foobang\n",
    "\n",
    "Optional plotz says to frobnicate the bizbaz first.\n",
    "\"\"\""
   ]
  },
  {
   "attachments": {},
   "cell_type": "markdown",
   "metadata": {},
   "source": [
    "对于单行文档字符串，结尾的\"\"\"可以保持在同一行："
   ]
  },
  {
   "cell_type": "code",
   "execution_count": null,
   "metadata": {},
   "outputs": [],
   "source": [
    "\"\"\"Return an ex-parrot.\"\"\""
   ]
  },
  {
   "attachments": {},
   "cell_type": "markdown",
   "metadata": {},
   "source": [
    "# 命名约定"
   ]
  },
  {
   "attachments": {},
   "cell_type": "markdown",
   "metadata": {},
   "source": [
    "(1) 在使用首字母缩写时，应将首字母缩写的所有字母大写。例如 HTTPSeverError 比 HttpServerError 更好。\n",
    "\n",
    "(2) 避免使用小写'l'、大写'O'、大写'I'等容易混淆的字母。\n",
    "\n",
    "(3) 模块命名：尽量简短，采用全小写的形式，如需提高可读性，可使用下划线。\n",
    "\n",
    "当用C或C++编写的扩展模块具有附带的Python模块，该模块提供更高级别的接口时，C/C++模块具有前导下划线（例如_socket）\n",
    "\n",
    "(4) 包命名：尽量简短，采用全小写的形式，但尽量不使用下划线。\n",
    "\n",
    "(5) 类命名：采用CapWords约定，即首字母大写。模块内部使用的类命名加一个前导下划线（如_MyType）\n",
    "\n",
    "(6) 类型变量名：通常应使用大写字母，首选短名称：T、AnyStr、Num。建议将后缀_co或_contra分别添加到用于声明协变或相反行为的变量中："
   ]
  },
  {
   "cell_type": "code",
   "execution_count": null,
   "metadata": {},
   "outputs": [],
   "source": [
    "from typing import TypeVar\n",
    "\n",
    "VT_co = TypeVar('VT_co', covariant=True)\n",
    "KT_contra = TypeVar('KT_contra', contravariant=True)"
   ]
  },
  {
   "attachments": {},
   "cell_type": "markdown",
   "metadata": {},
   "source": [
    "(7) 异常：沿用类命名约定，但需在异常名称加后缀'Error'，比如TypeError、NameError。\n",
    "\n",
    "(8) 全局变量名：尽量在一个模块中使用。通过from M import* 使用的模块应该使用 \\__all__ 机制来防止导出全局变量，或者在全局变量前面加下划线。\n",
    "\n",
    "(9) 函数和变量名：都采用小写形式，必要时用下划线分隔单词以提高可读性。\n",
    "\n",
    "(10) 函数和方法参数：\n",
    "\n",
    "通常使用self作为类实例方法的第一个参数，使用cls作为类方法的第一个参数。\n",
    "\n",
    "如函数参数的名称和保留关键字冲突，通常在末尾附加一个下划线，而不是选择缩写或错误的拼写。例如 class_比 clss更好。\n",
    "\n",
    "(11) 函数命名：使用小写字母，可使用下划线提高可读性。\n",
    "\n",
    "(12) 常量：通常在模块级别定义，所有字母大写，并用下划线分隔单词。例如 MAX_OVERFLOW。\n",
    "\n",
    "(13) 内部函数（私有函数）：内部接口（包、模块、类、函数、属性或其他名称）仍应以单个前导下划线作为前缀。"
   ]
  },
  {
   "attachments": {},
   "cell_type": "markdown",
   "metadata": {},
   "source": [
    "# 编程建议"
   ]
  },
  {
   "attachments": {},
   "cell_type": "markdown",
   "metadata": {},
   "source": [
    "(1) 在字符串连接上，避免使用 a += b 或者 a = a + b，选择 ''.join()可以提高性能。\n",
    "\n",
    "''.join()：将序列（即字符串、元组、列表、字典）中的元素以指定的字符连接生成一个新的字符串。"
   ]
  },
  {
   "attachments": {},
   "cell_type": "markdown",
   "metadata": {},
   "source": [
    "1. 对列表进行操作（分别使用 空格、-、* 作为分隔符）："
   ]
  },
  {
   "cell_type": "code",
   "execution_count": null,
   "metadata": {},
   "outputs": [],
   "source": [
    "a = ['I', 'love', 'China', '!']\n",
    "print(' '.join(a))\n",
    "print('-'.join(a))\n",
    "print('*'.join(a))"
   ]
  },
  {
   "attachments": {},
   "cell_type": "markdown",
   "metadata": {},
   "source": [
    "2. 对字符串进行操作（分别使用 空格、-、* 作为分隔符）："
   ]
  },
  {
   "cell_type": "code",
   "execution_count": null,
   "metadata": {},
   "outputs": [],
   "source": [
    "a = 'I love China !'\n",
    "print(' '.join(a))\n",
    "print('-'.join(a))\n",
    "print('*'.join(a))"
   ]
  },
  {
   "attachments": {},
   "cell_type": "markdown",
   "metadata": {},
   "source": [
    "3. 对元组进行操作（分别使用 空格、- 作为分隔符）："
   ]
  },
  {
   "cell_type": "code",
   "execution_count": null,
   "metadata": {},
   "outputs": [],
   "source": [
    "a = ('I', 'love', 'China', '!')\n",
    "print(' '.join(a))\n",
    "print('-'.join(a))"
   ]
  },
  {
   "attachments": {},
   "cell_type": "markdown",
   "metadata": {},
   "source": [
    "4. 对字典进行操作（分别使用 空格、- 作为分隔符）："
   ]
  },
  {
   "cell_type": "code",
   "execution_count": null,
   "metadata": {},
   "outputs": [],
   "source": [
    "a = {'I':1, 'love':2, 'China':3}\n",
    "print(' '.join(a))\n",
    "print('-'.join(a))"
   ]
  },
  {
   "attachments": {},
   "cell_type": "markdown",
   "metadata": {},
   "source": [
    "(2) None比较用'is'或'is not'，不要用'=='："
   ]
  },
  {
   "cell_type": "code",
   "execution_count": 18,
   "metadata": {},
   "outputs": [],
   "source": [
    "if a is None:\n",
    "    pass\n",
    "    \n",
    "if a is not None:\n",
    "    pass"
   ]
  },
  {
   "attachments": {},
   "cell_type": "markdown",
   "metadata": {},
   "source": [
    "None在Python中是一个单例对象，一个变量如果是None，它一定和None指向同一个内存地址。"
   ]
  },
  {
   "cell_type": "code",
   "execution_count": null,
   "metadata": {},
   "outputs": [],
   "source": [
    "a = None\n",
    "b = None\n",
    "if id(a) == id(b):\n",
    "    print(True)"
   ]
  },
  {
   "attachments": {},
   "cell_type": "markdown",
   "metadata": {},
   "source": [
    "is None是判断两个对象在内存中的地址是否一致，== None背后调用的是eq（例如x == y,其实背后的操作是 x.\\__eq__(y)），而eq可以被重载。下面是一个 is not None 但是 == None的例子："
   ]
  },
  {
   "cell_type": "code",
   "execution_count": null,
   "metadata": {},
   "outputs": [],
   "source": [
    "class test():\n",
    "    def __eq__(self,other):\n",
    "        return True\n",
    "t = test()\n",
    "# print(t)\n",
    "if t is None:\n",
    "    print(True)\n",
    "else:\n",
    "    print(False)\n",
    "\n",
    "if t == None:\n",
    "    print(True)"
   ]
  },
  {
   "attachments": {},
   "cell_type": "markdown",
   "metadata": {},
   "source": [
    "(3) 使用 is not 代替 not...is，前者可读性更好。"
   ]
  },
  {
   "cell_type": "code",
   "execution_count": null,
   "metadata": {},
   "outputs": [],
   "source": [
    "# Correct:\n",
    "if foo is not None:\n",
    "\n",
    "# Wrong:\n",
    "if not foo is None:"
   ]
  },
  {
   "attachments": {},
   "cell_type": "markdown",
   "metadata": {},
   "source": [
    "(4) 当需要实现比较丰富的排序操作时，最好实现所有六个操作（\\__eq__、\\__ne__、\\__lt__、\\__le__、\\__gt__、\\__ge__），为了最大限度地减少所涉及的工作量，可以借助functools.total_ordering()装饰器来生成缺失的比较方法。"
   ]
  },
  {
   "attachments": {},
   "cell_type": "markdown",
   "metadata": {},
   "source": [
    "(5) 使用def定义函数，而不是lambda："
   ]
  },
  {
   "cell_type": "code",
   "execution_count": null,
   "metadata": {},
   "outputs": [],
   "source": [
    "# Correct:\n",
    "def f(x): return 2*x\n",
    "\n",
    "# Wrong:\n",
    "f = lambda x: 2*x"
   ]
  },
  {
   "attachments": {},
   "cell_type": "markdown",
   "metadata": {},
   "source": [
    "(6) 异常类继承自Exception，而不是BaseException。\n",
    "\n",
    "(7) 适当使用异常链： raise X from Y\n",
    "\n",
    "(8) 捕获异常时尽量指明具体异常，而不是空except子句："
   ]
  },
  {
   "cell_type": "code",
   "execution_count": null,
   "metadata": {},
   "outputs": [],
   "source": [
    "try:\n",
    "    import platform_specific_module\n",
    "except ImportError:\n",
    "    platform_specific_module = None"
   ]
  },
  {
   "attachments": {},
   "cell_type": "markdown",
   "metadata": {},
   "source": [
    "空except子句将捕获SystemExit和KeyboardInterrupt异常，这会使得Control-C中断程序变得困难，并且它会掩盖其他的异常。\n",
    "\n",
    "因此如果要捕获所有发出程序错误信号的异常，请使用 except Exception。"
   ]
  },
  {
   "attachments": {},
   "cell_type": "markdown",
   "metadata": {},
   "source": [
    "(9) 对于所有try/except子句，将try子句限制为所需的绝对最小代码量，可以避免掩盖bug。"
   ]
  },
  {
   "cell_type": "code",
   "execution_count": null,
   "metadata": {},
   "outputs": [],
   "source": [
    "# Correct:\n",
    "try:\n",
    "    value = collection[key]\n",
    "except KeyError:\n",
    "    return key_not_found(key)\n",
    "else:\n",
    "    return handle_value(value)"
   ]
  },
  {
   "cell_type": "code",
   "execution_count": null,
   "metadata": {},
   "outputs": [],
   "source": [
    "# Wrong:\n",
    "try:\n",
    "    # Too broad!\n",
    "    return handle_value(collection[key])\n",
    "except KeyError:\n",
    "    # Will also catch KeyError raised by handle_value()\n",
    "    return key_not_found(key)"
   ]
  },
  {
   "attachments": {},
   "cell_type": "markdown",
   "metadata": {},
   "source": [
    "(10) 当资源是特定代码段的本地资源时，请使用with语句或者try/finally语句来确保在使用后能够及时可靠地清理该资源。"
   ]
  },
  {
   "cell_type": "code",
   "execution_count": null,
   "metadata": {},
   "outputs": [],
   "source": [
    "# 本地资源（例如文件、套接字等），为了确保这些资源能够被及时而可靠地清理\n",
    "\n",
    "# 使用with语句\n",
    "with open(\"file.txt\", \"r\") as f:\n",
    "    # 在此处处理文件内容\n",
    "\n",
    "# 使用try/finally语句\n",
    "f = open(\"file.txt\", \"r\")\n",
    "try:\n",
    "    # 在此处处理文件内容\n",
    "finally:\n",
    "    f.close()"
   ]
  },
  {
   "attachments": {},
   "cell_type": "markdown",
   "metadata": {},
   "source": [
    "(11) 上下文管理器在执行除获取和释放资源以外的其他操作时，应通过单独的函数或方法来调用："
   ]
  },
  {
   "cell_type": "code",
   "execution_count": null,
   "metadata": {},
   "outputs": [],
   "source": [
    "# Correct:\n",
    "with conn.begin_transaction():\n",
    "    do_stuff_in_transaction(conn)"
   ]
  },
  {
   "attachments": {},
   "cell_type": "markdown",
   "metadata": {},
   "source": [
    "以下示例没有提供任何信息来指示 \\__enter__ 和 \\__exit__ 方法在执行事务后关闭连接之外的其他操作："
   ]
  },
  {
   "cell_type": "code",
   "execution_count": null,
   "metadata": {},
   "outputs": [],
   "source": [
    "# Wrong:\n",
    "with conn:\n",
    "    do_stuff_in_transaction(conn)"
   ]
  },
  {
   "attachments": {},
   "cell_type": "markdown",
   "metadata": {},
   "source": [
    "(12) 返回语句要么返回一个表达式，要么返回None："
   ]
  },
  {
   "cell_type": "code",
   "execution_count": null,
   "metadata": {},
   "outputs": [],
   "source": [
    "# Correct:\n",
    "\n",
    "def foo(x):\n",
    "    if x >= 0:\n",
    "        return math.sqrt(x)\n",
    "    else:\n",
    "        return None\n",
    "\n",
    "def bar(x):\n",
    "    if x < 0:\n",
    "        return None\n",
    "    return math.sqrt(x)"
   ]
  },
  {
   "cell_type": "code",
   "execution_count": null,
   "metadata": {},
   "outputs": [],
   "source": [
    "# Wrong:\n",
    "\n",
    "def foo(x):\n",
    "    if x >= 0:\n",
    "        return math.sqrt(x)\n",
    "\n",
    "def bar(x):\n",
    "    if x < 0:\n",
    "        return\n",
    "    return math.sqrt(x)"
   ]
  },
  {
   "attachments": {},
   "cell_type": "markdown",
   "metadata": {},
   "source": [
    "(13) 使用 ''.startswith() 和 ''.endswith() 代替字符串切片来检查前缀和后缀。这两种方法更简洁且更不容易出错："
   ]
  },
  {
   "cell_type": "code",
   "execution_count": null,
   "metadata": {},
   "outputs": [],
   "source": [
    "# Correct:\n",
    "if foo.startswith('bar'):\n",
    "\n",
    "# Wrong:\n",
    "if foo[:3] == 'bar':"
   ]
  },
  {
   "attachments": {},
   "cell_type": "markdown",
   "metadata": {},
   "source": [
    "(14) 对象类型比较应始终使用 isinstance()，而不是直接比较类型："
   ]
  },
  {
   "cell_type": "code",
   "execution_count": null,
   "metadata": {},
   "outputs": [],
   "source": [
    "# Correct:\n",
    "if isinstance(obj, int):\n",
    "\n",
    "# Wrong:\n",
    "if type(obj) is type(1):"
   ]
  },
  {
   "attachments": {},
   "cell_type": "markdown",
   "metadata": {},
   "source": [
    "(15) 判断序列（字符串、列表、元组）是否为空序列,直接用if判断："
   ]
  },
  {
   "cell_type": "code",
   "execution_count": null,
   "metadata": {},
   "outputs": [],
   "source": [
    "# Correct:\n",
    "if not seq:\n",
    "if seq:\n",
    "\n",
    "# Wrong:\n",
    "if len(seq):\n",
    "if not len(seq):"
   ]
  },
  {
   "attachments": {},
   "cell_type": "markdown",
   "metadata": {},
   "source": [
    "如果要用len()判断，应该是这样的："
   ]
  },
  {
   "cell_type": "code",
   "execution_count": null,
   "metadata": {},
   "outputs": [],
   "source": [
    "list = []\n",
    "if len(list) == 0:\n",
    "    print('list is empty')"
   ]
  },
  {
   "attachments": {},
   "cell_type": "markdown",
   "metadata": {},
   "source": [
    "(16) 不要用 == 判断布尔值为True或者False："
   ]
  },
  {
   "cell_type": "code",
   "execution_count": null,
   "metadata": {},
   "outputs": [],
   "source": [
    "# Correct:\n",
    "if greeting:\n",
    "\n",
    "# Wrong:\n",
    "if greeting == True:\n",
    "\n",
    "# Worse:\n",
    "if greeting is True:"
   ]
  },
  {
   "attachments": {},
   "cell_type": "markdown",
   "metadata": {},
   "source": [
    "(17) 不鼓励在try...finally的finally套件中使用流控制语句 return/break/continue，因为流控制语句会跳到finally套件之外。这是因为这样的语句将隐式取消通过finally套件传播的任何活动异常："
   ]
  },
  {
   "cell_type": "code",
   "execution_count": null,
   "metadata": {},
   "outputs": [],
   "source": [
    "# Wrong:\n",
    "def foo():\n",
    "    try:\n",
    "        1 / 0\n",
    "    finally:\n",
    "        return 42"
   ]
  }
 ],
 "metadata": {
  "kernelspec": {
   "display_name": "Python 3",
   "language": "python",
   "name": "python3"
  },
  "language_info": {
   "codemirror_mode": {
    "name": "ipython",
    "version": 3
   },
   "file_extension": ".py",
   "mimetype": "text/x-python",
   "name": "python",
   "nbconvert_exporter": "python",
   "pygments_lexer": "ipython3",
   "version": "3.9.10"
  },
  "orig_nbformat": 4
 },
 "nbformat": 4,
 "nbformat_minor": 2
}
